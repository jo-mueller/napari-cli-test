{
 "cells": [
  {
   "cell_type": "code",
   "execution_count": 5,
   "metadata": {},
   "outputs": [],
   "source": [
    "from typing import Callable\n",
    "import functools\n",
    "import inspect\n",
    "from pathlib import Path\n",
    "import os\n",
    "import typer\n",
    "from skimage.io import imread, imsave\n",
    "from napari.layers import Image, Labels\n",
    "\n",
    "from napari_cli_test.function import threshold_otsu, threshold_mean\n",
    "from napari_cli_test import make_cli_executable\n",
    "\n",
    "app = typer.Typer()"
   ]
  },
  {
   "cell_type": "code",
   "execution_count": 6,
   "metadata": {},
   "outputs": [
    {
     "data": {
      "text/plain": [
       "[<Parameter \"image: pathlib._local.Path\">,\n",
       " <Parameter \"output_folder: pathlib._local.Path = '.'\">]"
      ]
     },
     "execution_count": 6,
     "metadata": {},
     "output_type": "execute_result"
    }
   ],
   "source": [
    "sig = inspect.signature(make_cli_executable(threshold_otsu))\n",
    "params = list(sig.parameters.values())\n",
    "params"
   ]
  },
  {
   "cell_type": "code",
   "execution_count": 7,
   "metadata": {},
   "outputs": [
    {
     "data": {
      "text/plain": [
       "[<Parameter \"image: napari.layers.image.image.Image\">]"
      ]
     },
     "execution_count": 7,
     "metadata": {},
     "output_type": "execute_result"
    }
   ],
   "source": [
    "sig = inspect.signature(threshold_otsu)\n",
    "params = list(sig.parameters.values())\n",
    "params"
   ]
  },
  {
   "cell_type": "code",
   "execution_count": 4,
   "metadata": {},
   "outputs": [
    {
     "name": "stdout",
     "output_type": "stream",
     "text": [
      "\u001b[31mSignature:\u001b[39m\n",
      "sig.replace(\n",
      "    *,\n",
      "    parameters=<\u001b[38;5;28;01mclass\u001b[39;00m \u001b[33m'inspect._void'\u001b[39m>,\n",
      "    return_annotation=<\u001b[38;5;28;01mclass\u001b[39;00m \u001b[33m'inspect._void'\u001b[39m>,\n",
      ")\n",
      "\u001b[31mDocstring:\u001b[39m\n",
      "Creates a customized copy of the Signature.\n",
      "Pass 'parameters' and/or 'return_annotation' arguments\n",
      "to override them in the new copy.\n",
      "\u001b[31mFile:\u001b[39m      c:\\users\\johamuel\\appdata\\roaming\\uv\\python\\cpython-3.13.2-windows-x86_64-none\\lib\\inspect.py\n",
      "\u001b[31mType:\u001b[39m      method"
     ]
    }
   ],
   "source": [
    "sig.replace?"
   ]
  },
  {
   "cell_type": "code",
   "execution_count": null,
   "metadata": {},
   "outputs": [],
   "source": []
  },
  {
   "cell_type": "code",
   "execution_count": null,
   "metadata": {},
   "outputs": [],
   "source": []
  },
  {
   "cell_type": "code",
   "execution_count": 43,
   "metadata": {},
   "outputs": [],
   "source": [
    "\n",
    "def make_cli_executable(function: Callable) -> Callable:\n",
    "\n",
    "    sig = inspect.signature(function)\n",
    "    params = list(sig.parameters.values())\n",
    "\n",
    "    replaced_params = []\n",
    "\n",
    "    for i, param in enumerate(params):\n",
    "        if param.annotation == Image:\n",
    "            params[i] = inspect.Parameter(\n",
    "                param.name,\n",
    "                param.kind,\n",
    "                annotation=Path\n",
    "            )\n",
    "            replaced_params.append(param.name)\n",
    "\n",
    "    @functools.wraps(function)\n",
    "    def wrapper(*args, **kwargs):\n",
    "        \"\"\"\n",
    "        A wrapper function that makes a function executable from the command line.\n",
    "        \"\"\"\n",
    "\n",
    "        # Check all replaced_params (which are of type Path) are provided and valid\n",
    "        for param_name in replaced_params:\n",
    "            if param_name not in kwargs:\n",
    "                raise ValueError(f\"Missing required parameter: {param_name}\")\n",
    "\n",
    "            param_value = os.path.abspath(kwargs[param_name])\n",
    "            print(f\"Parameter {param_name} has value: {param_value}\")\n",
    "            if not os.path.exists(param_value):\n",
    "                raise ValueError(f\"Invalid file path for parameter: {param_name}\")\n",
    "\n",
    "        # Read the image file(s)\n",
    "        for param_name in replaced_params:\n",
    "            kwargs[param_name] = Image(imread(kwargs[param_name]))\n",
    "\n",
    "        result_layer = function(*args, **kwargs)\n",
    "\n",
    "        # Save the result to a file\n",
    "        output_file = function.__name__ + '_output.tif'\n",
    "        imsave(output_file, result_layer.data)\n",
    "\n",
    "        return output_file\n",
    "    \n",
    "    # Update the wrapper's signature\n",
    "    wrapper.__signature__ = sig.replace(parameters=params, return_annotation=Path)\n",
    "\n",
    "    # Update the wrapper's annotations\n",
    "    wrapper.__annotations__ = {\n",
    "        param.name: (Path if param.annotation == Image else param.annotation)\n",
    "        for param in sig.parameters.values()\n",
    "    }\n",
    "    wrapper.__annotations__['return'] = Path\n",
    "\n",
    "    return wrapper"
   ]
  },
  {
   "cell_type": "code",
   "execution_count": 44,
   "metadata": {},
   "outputs": [],
   "source": [
    "def process_image(image: Image) -> Image:\n",
    "    # Example function that processes an image\n",
    "    return image"
   ]
  },
  {
   "cell_type": "code",
   "execution_count": 46,
   "metadata": {},
   "outputs": [
    {
     "name": "stdout",
     "output_type": "stream",
     "text": [
      "(image: pathlib._local.Path) -> pathlib._local.Path\n"
     ]
    }
   ],
   "source": [
    "print(inspect.signature(make_cli_executable(process_image)))"
   ]
  },
  {
   "cell_type": "code",
   "execution_count": 48,
   "metadata": {},
   "outputs": [
    {
     "name": "stdout",
     "output_type": "stream",
     "text": [
      "{'image': <class 'pathlib._local.Path'>, 'return': <class 'pathlib._local.Path'>}\n"
     ]
    }
   ],
   "source": [
    "print(make_cli_executable(process_image).__annotations__)"
   ]
  }
 ],
 "metadata": {
  "kernelspec": {
   "display_name": ".venv",
   "language": "python",
   "name": "python3"
  },
  "language_info": {
   "codemirror_mode": {
    "name": "ipython",
    "version": 3
   },
   "file_extension": ".py",
   "mimetype": "text/x-python",
   "name": "python",
   "nbconvert_exporter": "python",
   "pygments_lexer": "ipython3",
   "version": "3.13.2"
  }
 },
 "nbformat": 4,
 "nbformat_minor": 2
}
