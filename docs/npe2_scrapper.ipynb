{
 "cells": [
  {
   "cell_type": "code",
   "execution_count": 42,
   "metadata": {},
   "outputs": [],
   "source": [
    "import npe2\n",
    "import importlib\n",
    "from napari import layers\n",
    "\n",
    "import numpy as np"
   ]
  },
  {
   "cell_type": "code",
   "execution_count": 21,
   "metadata": {},
   "outputs": [
    {
     "data": {
      "text/plain": [
       "ContributionPoints(commands=[CommandContribution(id='napari-skimage.make_farid_widget', title='Make Farid filter widget', python_name='napari_skimage.skimage_filter_widget:farid_filter_widget', short_title=None, category=None, icon=None, enablement=None), CommandContribution(id='napari-skimage.make_prewitt_widget', title='Make Prewitt filter widget', python_name='napari_skimage.skimage_filter_widget:prewitt_filter_widget', short_title=None, category=None, icon=None, enablement=None), CommandContribution(id='napari-skimage.make_laplace_widget', title='Make Laplace filter widget', python_name='napari_skimage.skimage_filter_widget:laplace_filter_widget', short_title=None, category=None, icon=None, enablement=None), CommandContribution(id='napari-skimage.make_gaussian_widget', title='Make gaussian filter widget', python_name='napari_skimage.skimage_filter_widget:gaussian_filter_widget', short_title=None, category=None, icon=None, enablement=None), CommandContribution(id='napari-skimage.make_frangi_widget', title='Make Frangi filter widget', python_name='napari_skimage.skimage_filter_widget:frangi_filter_widget', short_title=None, category=None, icon=None, enablement=None), CommandContribution(id='napari-skimage.make_median_widget', title='Make Median filter widget', python_name='napari_skimage.skimage_filter_widget:median_filter_widget', short_title=None, category=None, icon=None, enablement=None), CommandContribution(id='napari-skimage.make_butterworth_widget', title='Make Butterworth filter widget', python_name='napari_skimage.skimage_filter_widget:butterworth_filter_widget', short_title=None, category=None, icon=None, enablement=None), CommandContribution(id='napari-skimage.make_threshold_widget', title='Make threshold widget', python_name='napari_skimage.skimage_threshold_widget:threshold_widget', short_title=None, category=None, icon=None, enablement=None), CommandContribution(id='napari-skimage.make_manual_threshold_widget', title='Make manual threshold widget', python_name='napari_skimage.skimage_threshold_widget:ManualThresholdWidget', short_title=None, category=None, icon=None, enablement=None), CommandContribution(id='napari-skimage.make_binary_morphology_widget', title='Make binary morphology widget', python_name='napari_skimage.skimage_morphology_widget:binary_morphology_widget', short_title=None, category=None, icon=None, enablement=None), CommandContribution(id='napari-skimage.make_morphology_widget', title='Make morphology widget', python_name='napari_skimage.skimage_morphology_widget:morphology_widget', short_title=None, category=None, icon=None, enablement=None), CommandContribution(id='napari-skimage.make_label_widget', title='Make label connected components widget', python_name='napari_skimage.skimage_label_widget:label_widget', short_title=None, category=None, icon=None, enablement=None), CommandContribution(id='napari-skimage.make_maths_image_pairs_widget', title='Make image pairs maths widget', python_name='napari_skimage.mathsops:maths_image_pairs_widget', short_title=None, category=None, icon=None, enablement=None), CommandContribution(id='napari-skimage.make_simple_maths_widget', title='Make simple maths widget', python_name='napari_skimage.mathsops:simple_maths_widget', short_title=None, category=None, icon=None, enablement=None), CommandContribution(id='napari-skimage.make_maths_crop_widget', title='Make maths crop widget', python_name='napari_skimage.mathsops:maths_crop_widget', short_title=None, category=None, icon=None, enablement=None), CommandContribution(id='napari-skimage.make_conversion_widget', title='Make conversion widget', python_name='napari_skimage.mathsops:conversion_widget', short_title=None, category=None, icon=None, enablement=None), CommandContribution(id='napari-skimage.make_rank_widget', title='Make Rank filter widget', python_name='napari_skimage.skimage_filter_widget:RankFilterWidget', short_title=None, category=None, icon=None, enablement=None), CommandContribution(id='napari-skimage.make_rolling_ball_restoration_widget', title='Make rolling ball restoration widget', python_name='napari_skimage.skimage_restoration_widget:rolling_ball_restoration_widget', short_title=None, category=None, icon=None, enablement=None), CommandContribution(id='napari-skimage.make_denoise_nl_means_restoration_widget', title='Make denoise nl means restoration widget', python_name='napari_skimage.skimage_restoration_widget:denoise_nl_means_restoration_widget', short_title=None, category=None, icon=None, enablement=None), CommandContribution(id='napari-skimage.make_peak_local_max_widget', title='Make Peak Local Max widget', python_name='napari_skimage.skimage_detection_widget:peak_local_max_widget', short_title=None, category=None, icon=None, enablement=None), CommandContribution(id='napari-skimage.make_marching_cubes_widget', title='Make Marching Cubes widget', python_name='napari_skimage.skimage_detection_widget:marching_cubes_widget', short_title=None, category=None, icon=None, enablement=None), CommandContribution(id='napari-skimage.make_marching_cubes_labels_widget', title='Make Marching Cubes (labels) widget', python_name='napari_skimage.skimage_detection_widget:marching_cubes_labels_widget', short_title=None, category=None, icon=None, enablement=None), CommandContribution(id='napari-skimage.make_regionprops_widget', title='Make regionprops widget', python_name='napari_skimage.skimage_regionprops_widget:regionprops_widget', short_title=None, category=None, icon=None, enablement=None)], readers=None, writers=None, widgets=[WidgetContribution(command='napari-skimage.make_farid_widget', display_name='Farid filter', autogenerate=False), WidgetContribution(command='napari-skimage.make_prewitt_widget', display_name='Prewitt filter', autogenerate=False), WidgetContribution(command='napari-skimage.make_laplace_widget', display_name='Laplace filter', autogenerate=False), WidgetContribution(command='napari-skimage.make_gaussian_widget', display_name='Gaussian filter', autogenerate=False), WidgetContribution(command='napari-skimage.make_frangi_widget', display_name='Frangi filter', autogenerate=False), WidgetContribution(command='napari-skimage.make_median_widget', display_name='Median filter', autogenerate=False), WidgetContribution(command='napari-skimage.make_butterworth_widget', display_name='Butterworth filter', autogenerate=False), WidgetContribution(command='napari-skimage.make_threshold_widget', display_name='Automated Threshold', autogenerate=False), WidgetContribution(command='napari-skimage.make_manual_threshold_widget', display_name='Manual Threshold', autogenerate=False), WidgetContribution(command='napari-skimage.make_binary_morphology_widget', display_name='Binary Morphology', autogenerate=False), WidgetContribution(command='napari-skimage.make_morphology_widget', display_name='Morphology', autogenerate=False), WidgetContribution(command='napari-skimage.make_label_widget', display_name='Label connected components', autogenerate=False), WidgetContribution(command='napari-skimage.make_simple_maths_widget', display_name='Simple maths', autogenerate=False), WidgetContribution(command='napari-skimage.make_maths_crop_widget', display_name='Crop rectangle', autogenerate=False), WidgetContribution(command='napari-skimage.make_maths_image_pairs_widget', display_name='Image pairs maths', autogenerate=False), WidgetContribution(command='napari-skimage.make_conversion_widget', display_name='Conversion', autogenerate=False), WidgetContribution(command='napari-skimage.make_rank_widget', display_name='Rank filters', autogenerate=False), WidgetContribution(command='napari-skimage.make_rolling_ball_restoration_widget', display_name='Rolling ball restoration', autogenerate=False), WidgetContribution(command='napari-skimage.make_denoise_nl_means_restoration_widget', display_name='Denoise nl means restoration', autogenerate=False), WidgetContribution(command='napari-skimage.make_peak_local_max_widget', display_name='Peak Local Max', autogenerate=False), WidgetContribution(command='napari-skimage.make_marching_cubes_widget', display_name='Marching Cubes', autogenerate=False), WidgetContribution(command='napari-skimage.make_marching_cubes_labels_widget', display_name='Marching Cubes (labels)', autogenerate=False), WidgetContribution(command='napari-skimage.make_regionprops_widget', display_name='Regionprops (labels)', autogenerate=False)], sample_data=None, themes=None, menus={'napari/layers/filter': [Submenu(when=None, group=None, submenu='filtering_submenu'), Submenu(when=None, group=None, submenu='edge_subemnu'), Submenu(when=None, group=None, submenu='ridge_submenu'), Submenu(when=None, group=None, submenu='denoising_submenu'), Submenu(when=None, group=None, submenu='thresholding_submenu'), Submenu(when=None, group=None, submenu='morphology_submenu'), Submenu(when=None, group=None, submenu='maths_submenu')], 'napari/layers/measure': [MenuCommand(command='napari-skimage.make_regionprops_widget', when=None, group=None, alt=None)], 'napari/layers/segment': [MenuCommand(command='napari-skimage.make_label_widget', when=None, group=None, alt=None)], 'napari/layers/layer_type': [MenuCommand(command='napari-skimage.make_peak_local_max_widget', when=None, group=None, alt=None), MenuCommand(command='napari-skimage.make_marching_cubes_widget', when=None, group=None, alt=None), MenuCommand(command='napari-skimage.make_marching_cubes_labels_widget', when=None, group=None, alt=None)], 'filtering_submenu': [MenuCommand(command='napari-skimage.make_gaussian_widget', when=None, group=None, alt=None), MenuCommand(command='napari-skimage.make_median_widget', when=None, group=None, alt=None), MenuCommand(command='napari-skimage.make_butterworth_widget', when=None, group=None, alt=None), MenuCommand(command='napari-skimage.make_rank_widget', when=None, group=None, alt=None)], 'edge_subemnu': [MenuCommand(command='napari-skimage.make_farid_widget', when=None, group=None, alt=None), MenuCommand(command='napari-skimage.make_prewitt_widget', when=None, group=None, alt=None), MenuCommand(command='napari-skimage.make_laplace_widget', when=None, group=None, alt=None)], 'ridge_submenu': [MenuCommand(command='napari-skimage.make_frangi_widget', when=None, group=None, alt=None)], 'denoising_submenu': [MenuCommand(command='napari-skimage.make_rolling_ball_restoration_widget', when=None, group=None, alt=None), MenuCommand(command='napari-skimage.make_denoise_nl_means_restoration_widget', when=None, group=None, alt=None)], 'thresholding_submenu': [MenuCommand(command='napari-skimage.make_threshold_widget', when=None, group=None, alt=None), MenuCommand(command='napari-skimage.make_manual_threshold_widget', when=None, group=None, alt=None)], 'morphology_submenu': [MenuCommand(command='napari-skimage.make_binary_morphology_widget', when=None, group=None, alt=None), MenuCommand(command='napari-skimage.make_morphology_widget', when=None, group=None, alt=None)], 'maths_submenu': [MenuCommand(command='napari-skimage.make_simple_maths_widget', when=None, group=None, alt=None), MenuCommand(command='napari-skimage.make_maths_image_pairs_widget', when=None, group=None, alt=None), MenuCommand(command='napari-skimage.make_maths_crop_widget', when=None, group=None, alt=None)]}, submenus=[SubmenuContribution(id='filtering_submenu', label='Filtering', icon=None), SubmenuContribution(id='edge_subemnu', label='Edge detection', icon=None), SubmenuContribution(id='ridge_submenu', label='Ridge detection', icon=None), SubmenuContribution(id='denoising_submenu', label='Denoising', icon=None), SubmenuContribution(id='thresholding_submenu', label='Thresholding', icon=None), SubmenuContribution(id='morphology_submenu', label='Morphology', icon=None), SubmenuContribution(id='maths_submenu', label='Maths', icon=None)], keybindings=None, configuration=[])"
      ]
     },
     "execution_count": 21,
     "metadata": {},
     "output_type": "execute_result"
    }
   ],
   "source": [
    "plugin_manager = npe2.PluginManager()\n",
    "\n",
    "manifest = plugin_manager.get_manifest('napari-skimage')\n",
    "manifest.contributions"
   ]
  },
  {
   "cell_type": "code",
   "execution_count": 29,
   "metadata": {},
   "outputs": [],
   "source": [
    "for cmd in manifest.contributions.commands:\n",
    "    module_path, function_name = cmd.python_name.split(':')\n",
    "\n",
    "    # Import the module\n",
    "    module = importlib.import_module(module_path)\n",
    "\n",
    "    # Get the function\n",
    "    function = getattr(module, function_name)\n",
    "    break"
   ]
  },
  {
   "cell_type": "code",
   "execution_count": 43,
   "metadata": {},
   "outputs": [],
   "source": [
    "widget = function()"
   ]
  },
  {
   "cell_type": "code",
   "execution_count": 44,
   "metadata": {},
   "outputs": [],
   "source": [
    "random_data = layers.Image(\n",
    "    np.random.random((100, 100)),\n",
    "    name='Random Image',\n",
    ")"
   ]
  },
  {
   "cell_type": "code",
   "execution_count": 45,
   "metadata": {},
   "outputs": [
    {
     "data": {
      "text/plain": [
       "(array([[0.02710488, 0.002468  , 0.02323873, ..., 0.05515472, 0.04344604,\n",
       "         0.09882274],\n",
       "        [0.02883976, 0.04705938, 0.08193593, ..., 0.07259411, 0.05273665,\n",
       "         0.10225443],\n",
       "        [0.04514813, 0.05902933, 0.05069771, ..., 0.08858137, 0.00643971,\n",
       "         0.05315006],\n",
       "        ...,\n",
       "        [0.10025981, 0.07246067, 0.04449245, ..., 0.06551658, 0.07042429,\n",
       "         0.05984427],\n",
       "        [0.1029628 , 0.03940498, 0.04716955, ..., 0.04519145, 0.03774289,\n",
       "         0.03076493],\n",
       "        [0.06267947, 0.03681937, 0.07181324, ..., 0.02820468, 0.08470815,\n",
       "         0.07295273]]),\n",
       " {'name': 'Random Image_farid'},\n",
       " 'image')"
      ]
     },
     "execution_count": 45,
     "metadata": {},
     "output_type": "execute_result"
    }
   ],
   "source": [
    "widget(random_data)"
   ]
  },
  {
   "cell_type": "code",
   "execution_count": null,
   "metadata": {},
   "outputs": [],
   "source": []
  }
 ],
 "metadata": {
  "kernelspec": {
   "display_name": ".venv",
   "language": "python",
   "name": "python3"
  },
  "language_info": {
   "codemirror_mode": {
    "name": "ipython",
    "version": 3
   },
   "file_extension": ".py",
   "mimetype": "text/x-python",
   "name": "python",
   "nbconvert_exporter": "python",
   "pygments_lexer": "ipython3",
   "version": "3.12.9"
  }
 },
 "nbformat": 4,
 "nbformat_minor": 2
}
