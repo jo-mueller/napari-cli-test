{
 "cells": [
  {
   "cell_type": "code",
   "execution_count": 23,
   "id": "9a5a19ed",
   "metadata": {},
   "outputs": [],
   "source": [
    "from napari import layers\n",
    "from pathlib import Path\n",
    "from skimage import io\n",
    "from typer.testing import CliRunner\n",
    "from napari_cli_test.main import app\n",
    "\n",
    "from napari_cli_test import make_cli_executable, threshold_mean, threshold_otsu\n",
    "import napari"
   ]
  },
  {
   "cell_type": "code",
   "execution_count": 2,
   "id": "3e072cf8",
   "metadata": {},
   "outputs": [],
   "source": [
    "def parse_napari_image(value: Path) -> layers.Image:\n",
    "    image = io.imread(value)\n",
    "    return layers.Image(image, name=value.stem)"
   ]
  },
  {
   "cell_type": "code",
   "execution_count": 5,
   "id": "01bfdbdb",
   "metadata": {},
   "outputs": [],
   "source": [
    "runner = CliRunner()"
   ]
  },
  {
   "cell_type": "code",
   "execution_count": null,
   "id": "19fbfcbf",
   "metadata": {},
   "outputs": [],
   "source": [
    "# Simulate CLI call, e.g.:\n",
    "app.command()(make_cli_executable(threshold_otsu))\n",
    "app.command()(make_cli_executable(threshold_mean))\n",
    "\n",
    "result = runner.invoke(\n",
    "    app,\n",
    "    [\n",
    "        \"src/napari_cli_test/main.py\",  # path to the main script\n",
    "        \"threshold-mean\",  # command name (use the actual CLI command name)\n",
    "        \"../src/napari_cli_test/_tests/human_mitosis.tif\",  # image path\n",
    "    ]\n",
    ")"
   ]
  },
  {
   "cell_type": "code",
   "execution_count": null,
   "id": "409cb7b8",
   "metadata": {},
   "outputs": [
    {
     "name": "stderr",
     "output_type": "stream",
     "text": [
      "Downloading file 'data/mitosis.tif' from 'https://gitlab.com/scikit-image/data/-/raw/2cdc5ce89b334d28f06a58c9f0ca21aa6992a5ba/AS_09125_050116030001_D03f00d0.tif' to 'C:\\Users\\Johan\\AppData\\Local\\scikit-image\\scikit-image\\Cache\\0.25.2'.\n"
     ]
    },
    {
     "data": {
      "text/plain": [
       "[<Image layer 'human_mitosis' at 0x199bebbcd10>]"
      ]
     },
     "execution_count": 28,
     "metadata": {},
     "output_type": "execute_result"
    }
   ],
   "source": [
    "viewer = napari.Viewer()"
   ]
  },
  {
   "cell_type": "code",
   "execution_count": 31,
   "id": "49f3ca8b",
   "metadata": {},
   "outputs": [],
   "source": [
    "layer = viewer.open_sample('napari', 'human_mitosis')[0]"
   ]
  },
  {
   "cell_type": "code",
   "execution_count": 33,
   "id": "e159bcdb",
   "metadata": {},
   "outputs": [
    {
     "data": {
      "text/plain": [
       "['test.tif']"
      ]
     },
     "execution_count": 33,
     "metadata": {},
     "output_type": "execute_result"
    }
   ],
   "source": [
    "layer.save('test.tif', plugin='napari')"
   ]
  },
  {
   "cell_type": "code",
   "execution_count": 34,
   "id": "15ce832a",
   "metadata": {},
   "outputs": [],
   "source": [
    "_WRITER_DISPATCH = {\n",
    "    layers.Image: 'napari',\n",
    "    layers.Labels: 'napari',\n",
    "}\n"
   ]
  },
  {
   "cell_type": "code",
   "execution_count": 35,
   "id": "f96e6bd6",
   "metadata": {},
   "outputs": [
    {
     "data": {
      "text/plain": [
       "['test.tif']"
      ]
     },
     "execution_count": 35,
     "metadata": {},
     "output_type": "execute_result"
    }
   ],
   "source": [
    "layer.save('test.tif', plugin=_WRITER_DISPATCH[type(layer)])"
   ]
  },
  {
   "cell_type": "code",
   "execution_count": 40,
   "id": "d7589c21",
   "metadata": {},
   "outputs": [
    {
     "data": {
      "text/plain": [
       "['__builtins__',\n",
       " '__cached__',\n",
       " '__doc__',\n",
       " '__file__',\n",
       " '__getattr__',\n",
       " '__loader__',\n",
       " '__name__',\n",
       " '__package__',\n",
       " '__spec__',\n",
       " '__version__',\n",
       " 'imsave',\n",
       " 'imsave_png',\n",
       " 'imsave_tiff',\n",
       " 'np',\n",
       " 'os',\n",
       " 'show_warning',\n",
       " 'struct',\n",
       " 'trans',\n",
       " 'warnings']"
      ]
     },
     "execution_count": 40,
     "metadata": {},
     "output_type": "execute_result"
    }
   ],
   "source": [
    "# get the writer function from napari\n",
    "dir(napari.utils.io)"
   ]
  },
  {
   "cell_type": "code",
   "execution_count": null,
   "id": "69acef25",
   "metadata": {},
   "outputs": [],
   "source": []
  }
 ],
 "metadata": {
  "kernelspec": {
   "display_name": "clusters-plotter",
   "language": "python",
   "name": "python3"
  },
  "language_info": {
   "codemirror_mode": {
    "name": "ipython",
    "version": 3
   },
   "file_extension": ".py",
   "mimetype": "text/x-python",
   "name": "python",
   "nbconvert_exporter": "python",
   "pygments_lexer": "ipython3",
   "version": "3.11.12"
  }
 },
 "nbformat": 4,
 "nbformat_minor": 5
}
