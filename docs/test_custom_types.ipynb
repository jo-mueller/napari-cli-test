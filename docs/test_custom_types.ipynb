{
 "cells": [
  {
   "cell_type": "code",
   "execution_count": 12,
   "id": "9a5a19ed",
   "metadata": {},
   "outputs": [],
   "source": [
    "from napari import layers\n",
    "from pathlib import Path\n",
    "from skimage import io\n",
    "from typer.testing import CliRunner\n",
    "from napari_cli_test.main import app\n",
    "\n",
    "from napari_cli_test import make_cli_executable, threshold_mean, threshold_otsu"
   ]
  },
  {
   "cell_type": "code",
   "execution_count": 2,
   "id": "3e072cf8",
   "metadata": {},
   "outputs": [],
   "source": [
    "def parse_napari_image(value: Path) -> layers.Image:\n",
    "    image = io.imread(value)\n",
    "    return layers.Image(image, name=value.stem)"
   ]
  },
  {
   "cell_type": "code",
   "execution_count": 5,
   "id": "01bfdbdb",
   "metadata": {},
   "outputs": [],
   "source": [
    "runner = CliRunner()"
   ]
  },
  {
   "cell_type": "code",
   "execution_count": null,
   "id": "19fbfcbf",
   "metadata": {},
   "outputs": [],
   "source": [
    "# Simulate CLI call, e.g.:\n",
    "app.command()(make_cli_executable(threshold_otsu))\n",
    "app.command()(make_cli_executable(threshold_mean))\n",
    "\n",
    "result = runner.invoke(\n",
    "    app,\n",
    "    [\n",
    "        \"src/napari_cli_test/main.py\",  # path to the main script\n",
    "        \"threshold-mean\",  # command name (use the actual CLI command name)\n",
    "        \"../src/napari_cli_test/_tests/human_mitosis.tif\",  # image path\n",
    "    ]\n",
    ")"
   ]
  },
  {
   "cell_type": "code",
   "execution_count": 10,
   "id": "409cb7b8",
   "metadata": {},
   "outputs": [
    {
     "data": {
      "text/plain": [
       "<Result TypeError('expected str, bytes or os.PathLike object, not Image')>"
      ]
     },
     "execution_count": 10,
     "metadata": {},
     "output_type": "execute_result"
    }
   ],
   "source": [
    "result"
   ]
  },
  {
   "cell_type": "code",
   "execution_count": null,
   "id": "e159bcdb",
   "metadata": {},
   "outputs": [],
   "source": []
  }
 ],
 "metadata": {
  "kernelspec": {
   "display_name": "clusters-plotter",
   "language": "python",
   "name": "python3"
  },
  "language_info": {
   "codemirror_mode": {
    "name": "ipython",
    "version": 3
   },
   "file_extension": ".py",
   "mimetype": "text/x-python",
   "name": "python",
   "nbconvert_exporter": "python",
   "pygments_lexer": "ipython3",
   "version": "3.11.12"
  }
 },
 "nbformat": 4,
 "nbformat_minor": 5
}
