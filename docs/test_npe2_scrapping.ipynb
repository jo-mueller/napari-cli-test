{
 "cells": [
  {
   "cell_type": "code",
   "execution_count": 1,
   "id": "585cdb84",
   "metadata": {},
   "outputs": [],
   "source": [
    "from typing import Callable, get_origin, Union, get_args\n",
    "import importlib\n",
    "from typing_extensions import Annotated\n",
    "import functools\n",
    "import inspect\n",
    "from pathlib import Path\n",
    "import os\n",
    "import typer\n",
    "from skimage import io\n",
    "import numpy as np\n",
    "from napari import layers, types\n",
    "import napari\n",
    "import npe2\n",
    "from magicgui.type_map._magicgui import MagicFactory\n",
    "from magicgui.widgets import Label, Container, Button, create_widget\n",
    "from napari_cli_test.function import threshold_otsu, threshold_mean\n",
    "\n",
    "from napari_cli_test import threshold_mean, threshold_otsu, make_cli_executable\n",
    "from napari_cli_test.main import app"
   ]
  },
  {
   "cell_type": "code",
   "execution_count": 2,
   "id": "0b8f8405",
   "metadata": {},
   "outputs": [],
   "source": [
    "supported_inputs = [\n",
    "    layers.Image,\n",
    "    layers.Labels,\n",
    "]\n",
    "\n",
    "def parse_napari_image(value: Path) -> layers.Image:\n",
    "    image = io.imread(value)\n",
    "    return layers.Image(image, name=Path(value).stem)\n",
    "\n",
    "def parse_napari_labels(value: Path) -> layers.Labels:\n",
    "    labels = io.imread(value).astype(np.uint8)\n",
    "    return layers.Labels(labels, name=Path(value).stem)\n",
    "\n",
    "def is_optional(annotation):\n",
    "    return (\n",
    "        get_origin(annotation) is Union\n",
    "        and type(None) in get_args(annotation)\n",
    "    )\n",
    "\n",
    "_WRITER_DISPATCH = {\n",
    "    layers.Image: io.imsave,\n",
    "    layers.Labels: io.imsave,\n",
    "}\n",
    "\n",
    "_READER_DISPATCH = {\n",
    "    layers.Image: parse_napari_image,\n",
    "    layers.Labels: parse_napari_labels,\n",
    "}\n",
    "\n",
    "_OUTPUT_FOLDER_PARAM_NAME = 'output_folder'"
   ]
  },
  {
   "cell_type": "code",
   "execution_count": 4,
   "id": "5af01188",
   "metadata": {},
   "outputs": [],
   "source": [
    "plugin_manager = npe2.PluginManager()\n",
    "plugin_manager.discover()\n",
    "\n",
    "manifest = plugin_manager.get_manifest('napari-skimage')"
   ]
  },
  {
   "cell_type": "code",
   "execution_count": 5,
   "id": "ea954599",
   "metadata": {},
   "outputs": [
    {
     "name": "stdout",
     "output_type": "stream",
     "text": [
      "0: farid_filter_widget registered as CLI command.\n",
      "1: prewitt_filter_widget registered as CLI command.\n",
      "2: laplace_filter_widget registered as CLI command.\n",
      "3: gaussian_filter_widget registered as CLI command.\n",
      "4: frangi_filter_widget registered as CLI command.\n",
      "5: median_filter_widget registered as CLI command.\n",
      "6: butterworth_filter_widget registered as CLI command.\n",
      "7: threshold_widget registered as CLI command.\n",
      "9: binary_morphology_widget registered as CLI command.\n",
      "10: morphology_widget registered as CLI command.\n",
      "11: label_widget registered as CLI command.\n",
      "12: maths_image_pairs_widget registered as CLI command.\n",
      "13: simple_maths_widget registered as CLI command.\n",
      "14: maths_crop_widget registered as CLI command.\n",
      "15: conversion_widget registered as CLI command.\n",
      "17: rolling_ball_restoration_widget registered as CLI command.\n",
      "18: denoise_nl_means_restoration_widget registered as CLI command.\n",
      "19: peak_local_max_widget registered as CLI command.\n",
      "20: marching_cubes_widget registered as CLI command.\n",
      "21: marching_cubes_labels_widget registered as CLI command.\n",
      "22: regionprops_widget registered as CLI command.\n"
     ]
    }
   ],
   "source": [
    "for idx, cmd in enumerate(manifest.contributions.commands):\n",
    "    module_path, function_name = cmd.python_name.split(':')\n",
    "\n",
    "    # Import the module\n",
    "    module = importlib.import_module(module_path)\n",
    "\n",
    "    # Get the function\n",
    "    function = getattr(module, function_name)\n",
    "\n",
    "    if inspect.isclass(function):\n",
    "        continue\n",
    "\n",
    "    if isinstance(function, MagicFactory):\n",
    "        widget = function()\n",
    "        function = widget._function\n",
    "\n",
    "    try:\n",
    "        app.command()(make_cli_executable(function))\n",
    "        print(f\"{idx}: {function.__name__} registered as CLI command.\")\n",
    "    except Exception as e:\n",
    "        print(f\"Error registering {function.__name__}: {e}\")\n",
    "        continue"
   ]
  },
  {
   "cell_type": "code",
   "execution_count": 6,
   "id": "4f77ed73",
   "metadata": {},
   "outputs": [],
   "source": [
    "image1 = np.random.random((100, 100))\n",
    "image2 = np.random.random((100, 100))"
   ]
  },
  {
   "cell_type": "code",
   "execution_count": 7,
   "id": "09f452a3",
   "metadata": {},
   "outputs": [
    {
     "data": {
      "text/plain": [
       "<Image layer 'Image 2' at 0x223d2e93d50>"
      ]
     },
     "execution_count": 7,
     "metadata": {},
     "output_type": "execute_result"
    }
   ],
   "source": [
    "viewer = napari.Viewer()\n",
    "viewer.add_image(image1, name='Image 1')\n",
    "viewer.add_image(image2, name='Image 2')"
   ]
  },
  {
   "cell_type": "code",
   "execution_count": null,
   "id": "46928e6f",
   "metadata": {},
   "outputs": [],
   "source": []
  }
 ],
 "metadata": {
  "kernelspec": {
   "display_name": "clusters-plotter",
   "language": "python",
   "name": "python3"
  },
  "language_info": {
   "codemirror_mode": {
    "name": "ipython",
    "version": 3
   },
   "file_extension": ".py",
   "mimetype": "text/x-python",
   "name": "python",
   "nbconvert_exporter": "python",
   "pygments_lexer": "ipython3",
   "version": "3.11.12"
  }
 },
 "nbformat": 4,
 "nbformat_minor": 5
}
